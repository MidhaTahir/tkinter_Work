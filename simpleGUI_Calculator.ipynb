{
 "cells": [
  {
   "cell_type": "code",
   "execution_count": 1,
   "metadata": {},
   "outputs": [],
   "source": [
    "import tkinter\n",
    "from tkinter import *\n",
    "from functools import partial"
   ]
  },
  {
   "cell_type": "code",
   "execution_count": 2,
   "metadata": {},
   "outputs": [],
   "source": [
    "win = Tk()\n",
    "win.title(\"Project1\")\n",
    "def sum(label,x1,x2):\n",
    "    num1 = (x1.get())\n",
    "    num2 = (x2.get())\n",
    "    try:\n",
    "        sum = int(num1) + int(num2)\n",
    "        label.config(text='Sum is: %d' %sum)\n",
    "    except:\n",
    "        label.config(text=\"Please Enter Numbers\")\n",
    "    return"
   ]
  },
  {
   "cell_type": "code",
   "execution_count": 3,
   "metadata": {},
   "outputs": [],
   "source": [
    "def subtract(label,x1,x2):\n",
    "    num1 = x1.get()\n",
    "    num2 = x2.get()\n",
    "    try:\n",
    "        sub = int(num1) - int(num2)\n",
    "        label.config(text='After Subtracting : %d' %sub)\n",
    "    except:\n",
    "        label.config(text=\"Please Enter Numbers\")\n",
    "    return"
   ]
  },
  {
   "cell_type": "code",
   "execution_count": 4,
   "metadata": {},
   "outputs": [],
   "source": [
    "def multiply(label,x1,x2):\n",
    "    num1 = x1.get()\n",
    "    num2 = x2.get()\n",
    "    try:\n",
    "        mul = int(num1) * int(num2)\n",
    "        label.config(text=\"Product is: %d\" %mul)\n",
    "    except:\n",
    "        label.config(text=\"Please Enter Numbers\")\n",
    "    return"
   ]
  },
  {
   "cell_type": "code",
   "execution_count": 5,
   "metadata": {},
   "outputs": [],
   "source": [
    "def division(label,x1,x2):\n",
    "    num1 = x1.get()\n",
    "    num2 = x2.get()\n",
    "    if num2==\"0\" and num1!=\"\":\n",
    "        label.config(text='Zero Division Error')\n",
    "    else:\n",
    "        try:\n",
    "            div = int(num1) / int(num2)\n",
    "            label.config(text=\"Quotient is: %d\"%div)\n",
    "        except:\n",
    "            label.config(text=\"Please Enter Numbers\")\n",
    "    return"
   ]
  },
  {
   "cell_type": "code",
   "execution_count": 6,
   "metadata": {},
   "outputs": [],
   "source": [
    "x1 = StringVar()\n",
    "x2 = StringVar()\n",
    "# c = Canvas(win,height=300,width=500,bg='blue')\n",
    "win.geometry(\"500x300\")\n",
    "mytitle = Label(win,text='CALCULATOR',width = 20,height = 2,foreground = 'RoyalBlue4',font = (\"helvetica\",14, \"bold\"))\n",
    "mytitle.grid(row=1,column=0)"
   ]
  },
  {
   "cell_type": "code",
   "execution_count": 7,
   "metadata": {},
   "outputs": [],
   "source": [
    "l1 = Label(win,text='First no.') #creating first label\n",
    "l1.grid(row=3,column=0)\n",
    "\n",
    "e1 = Entry(win,textvariable=x1)\n",
    "e1.grid(row=3,column=2)"
   ]
  },
  {
   "cell_type": "code",
   "execution_count": 8,
   "metadata": {},
   "outputs": [],
   "source": [
    "l2 = Label(win,text='Second no.') #creating second label\n",
    "l2.grid(row=4,column=0)\n",
    "\n",
    "e2 = Entry(win,textvariable=x2)\n",
    "e2.grid(row=4,column=2)\n"
   ]
  },
  {
   "cell_type": "code",
   "execution_count": 9,
   "metadata": {},
   "outputs": [],
   "source": [
    "label = Label(win,font = (\"helvetica\",12, \"italic\"),foreground=\"RoyalBlue4\") #third label which will show answer\n",
    "label.grid(row=20,column=0)"
   ]
  },
  {
   "cell_type": "code",
   "execution_count": 10,
   "metadata": {},
   "outputs": [],
   "source": [
    "#partial functions --> Functools module is for higher-order functions where functions can either act or return on other functions.\n",
    "sum = partial(sum,label,x1,x2) #first parameter -> func_name , it is returning in sum variable\n",
    "subtract = partial(subtract,label,x1,x2)\n",
    "product = partial(multiply,label,x1,x2)\n",
    "divide = partial(division,label,x1,x2)"
   ]
  },
  {
   "cell_type": "code",
   "execution_count": 11,
   "metadata": {},
   "outputs": [],
   "source": [
    "b = Button(win,text='SUM',command=sum,activebackground='white',fg='black',padx=35,cursor='hand2') #creating sum button #command=sum(sum is returned by partial)\n",
    "b.grid(row=12,column=0)"
   ]
  },
  {
   "cell_type": "code",
   "execution_count": 12,
   "metadata": {},
   "outputs": [],
   "source": [
    "b1 = Button(win,text='SUBTRACT',command=subtract,activebackground='white',fg='black',padx=15,cursor='hand2') #creating subtract button\n",
    "b1.grid(row=12,column=1)"
   ]
  },
  {
   "cell_type": "code",
   "execution_count": 13,
   "metadata": {},
   "outputs": [],
   "source": [
    "b2 = Button(win,text='MULTIPLY',command=product,activebackground='white',fg='black',padx=20,cursor='hand2') #creating multiply button\n",
    "b2.grid(row=14,column=0)"
   ]
  },
  {
   "cell_type": "code",
   "execution_count": 14,
   "metadata": {},
   "outputs": [],
   "source": [
    "b3 = Button(win,text='DIVISION',command=divide,activebackground='white',fg='black',padx=20,cursor='hand2') #creating subtract button\n",
    "b3.grid(row=14,column=1)"
   ]
  },
  {
   "cell_type": "code",
   "execution_count": 15,
   "metadata": {},
   "outputs": [],
   "source": [
    "win.mainloop()"
   ]
  },
  {
   "cell_type": "code",
   "execution_count": null,
   "metadata": {},
   "outputs": [],
   "source": []
  }
 ],
 "metadata": {
  "kernelspec": {
   "display_name": "Python 3",
   "language": "python",
   "name": "python3"
  },
  "language_info": {
   "codemirror_mode": {
    "name": "ipython",
    "version": 3
   },
   "file_extension": ".py",
   "mimetype": "text/x-python",
   "name": "python",
   "nbconvert_exporter": "python",
   "pygments_lexer": "ipython3",
   "version": "3.7.3"
  }
 },
 "nbformat": 4,
 "nbformat_minor": 2
}
