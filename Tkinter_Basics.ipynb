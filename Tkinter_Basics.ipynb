{
 "cells": [
  {
   "cell_type": "code",
   "execution_count": 3,
   "metadata": {},
   "outputs": [],
   "source": [
    "#import tkinter\n",
    "from tkinter import *"
   ]
  },
  {
   "cell_type": "code",
   "execution_count": 35,
   "metadata": {},
   "outputs": [],
   "source": [
    "#Window\n",
    "win = Tk() #first line\n",
    "win.geometry(\"500x500\")#to give a size of window\n",
    "b = Button(win,text='Button1') #declaring a button 1st arg->in which form you want to show button\n",
    "#b.grid(row=4,column=5)\n",
    "#b.pack()\n",
    "b.place(x=100,y=200) #x and y are pixels\n",
    "b2 = Button(win,text='B2')\n",
    "#b2.pack()\n",
    "#b2.grid(row=5,column=6)\n",
    "b2.place(x=300,y=200) \n",
    "win.mainloop() #last line"
   ]
  },
  {
   "cell_type": "code",
   "execution_count": 48,
   "metadata": {},
   "outputs": [
    {
     "name": "stdout",
     "output_type": "stream",
     "text": [
      "Hi\n",
      "Hi\n",
      "Hi\n"
     ]
    }
   ],
   "source": [
    "#Button\n",
    "def pr():\n",
    "    print(\"Hi\")\n",
    "\n",
    "w = Tk()\n",
    "w.geometry(\"400x400\") #to give dimensions\n",
    "b1 = Button(w,text='mybutton',command=pr,padx=20,pady=20,activeforeground='red') #now in command we have to assign a function\n",
    "b1.place(x=200,y=300)\n",
    "w.mainloop()"
   ]
  },
  {
   "cell_type": "code",
   "execution_count": 10,
   "metadata": {},
   "outputs": [],
   "source": [
    "#Canvas\n",
    "w1 = Tk()\n",
    "c = Canvas(w1,height=250,width=300,bg='blue')\n",
    "coord = 10,50,240,210 #coordinate at which you want \n",
    "arc = c.create_arc(coord,start=0,extent=180,fill='red')\n",
    "c.pack()\n",
    "w1.mainloop()"
   ]
  },
  {
   "cell_type": "code",
   "execution_count": 12,
   "metadata": {},
   "outputs": [],
   "source": [
    "#line and arc\n",
    "w1 = Tk()\n",
    "c = Canvas(w1,height=250,width=300,bg='blue')\n",
    "coord = 10,50,240,210 #coordinate at which you want \n",
    "arc = c.create_arc(coord,start=0,extent=180,fill='red')\n",
    "line = c.create_line(10,10,200,200,fill='white')\n",
    "c.pack()\n",
    "w1.mainloop()"
   ]
  },
  {
   "cell_type": "code",
   "execution_count": 17,
   "metadata": {},
   "outputs": [
    {
     "name": "stdout",
     "output_type": "stream",
     "text": [
      "PY_VAR2\n",
      "PY_VAR3\n"
     ]
    }
   ],
   "source": [
    "#Check Button\n",
    "w1 = Tk()\n",
    "c1 = IntVar() #defining variable\n",
    "c2 = IntVar()\n",
    "cb = Checkbutton(w1,text='music',offvalue=0,onvalue=1,height=5,width=10,variable=c1)#on and off value \n",
    "cb.pack()\n",
    "cb2 = Checkbutton(w1,text='audio',offvalue=0,onvalue=1,height=5,width=10,variable=c2)#on and off value \n",
    "cb2.pack()\n",
    "w1.mainloop()"
   ]
  },
  {
   "cell_type": "code",
   "execution_count": 21,
   "metadata": {},
   "outputs": [],
   "source": [
    "#RadioButton\n",
    "w = Tk()\n",
    "var = IntVar()\n",
    "r1 = Radiobutton(w,text='option1',variable=var,value=1) #value is option no\n",
    "r1.pack()\n",
    "r2 = Radiobutton(w,text='option1',variable=var,value=2) #value is option no\n",
    "r2.pack()\n",
    "r2 = Radiobutton(w,text='option1',variable=var,value=3) #value is option no\n",
    "r2.pack()\n",
    "w.mainloop()"
   ]
  },
  {
   "cell_type": "code",
   "execution_count": 30,
   "metadata": {},
   "outputs": [],
   "source": [
    "#Label and entry box\n",
    "we = Tk()\n",
    "l = Label(we,text='username')\n",
    "l.pack(side=LEFT)\n",
    "e = Entry(we)\n",
    "e.pack(side=RIGHT)\n",
    "\n",
    "we.mainloop()"
   ]
  },
  {
   "cell_type": "code",
   "execution_count": 35,
   "metadata": {},
   "outputs": [],
   "source": [
    "wi = Tk()\n",
    "l = Label(wi,text='username')\n",
    "l.pack()\n",
    "e = Entry(wi)\n",
    "e.pack()\n",
    "t = Text(wi) #text box\n",
    "t.insert(INSERT,'hello') #hello will be already written in text box\n",
    "t.pack()\n",
    "\n",
    "wi.mainloop()"
   ]
  },
  {
   "cell_type": "code",
   "execution_count": 9,
   "metadata": {},
   "outputs": [],
   "source": [
    "#Frames\n",
    "r = Tk()\n",
    "frame = Frame(r) #just like div tags in html\n",
    "frame.pack()\n",
    "frame2 = Frame(r)\n",
    "frame2.pack(side=BOTTOM)\n",
    "rb = Button(frame,text=\"Red\",fg='red')\n",
    "rb.pack(side=LEFT)\n",
    "bb = Button(frame,text=\"Blue\",fg='blue')\n",
    "bb.pack(side=LEFT)\n",
    "gb = Button(frame2,text=\"Green\",fg='green')\n",
    "gb.pack(side=LEFT)\n",
    "r.mainloop()"
   ]
  },
  {
   "cell_type": "code",
   "execution_count": 13,
   "metadata": {},
   "outputs": [],
   "source": [
    "#ListBox\n",
    "w = Tk()\n",
    "lb = Listbox(w)\n",
    "lb.insert(1,'python')\n",
    "lb.insert(2,'C')\n",
    "lb.insert(3,'C++')\n",
    "lb.insert(4,'JQuery')\n",
    "lb.pack()\n",
    "w.mainloop()"
   ]
  },
  {
   "cell_type": "code",
   "execution_count": 17,
   "metadata": {},
   "outputs": [],
   "source": [
    "#topLevel\n",
    "q = Tk()\n",
    "q.title('first')\n",
    "top = Toplevel() #on top there is second title window\n",
    "top.title('second')\n",
    "q.mainloop()"
   ]
  },
  {
   "cell_type": "code",
   "execution_count": 23,
   "metadata": {},
   "outputs": [],
   "source": [
    "#messageBox\n",
    "from tkinter import messagebox\n",
    "m = Tk()\n",
    "\n",
    "def hey():\n",
    "    messagebox.showinfo('title','message') #where you want show , what the message\n",
    "\n",
    "b = Button(m,text='popup',command=hey)\n",
    "b.pack()\n",
    "m.mainloop()\n",
    "\n",
    "\n",
    "\n"
   ]
  },
  {
   "cell_type": "code",
   "execution_count": 8,
   "metadata": {},
   "outputs": [],
   "source": [
    "#MENU and MENU BUTTON\n",
    "v = Tk()\n",
    "mb = Menubutton(v,text='File')\n",
    "mb.grid()\n",
    "mb.menu = Menu(mb)\n",
    "mb['menu'] = mb.menu\n",
    "x1 = IntVar()\n",
    "x2 = IntVar()\n",
    "mb.menu.add_checkbutton(label='open',variable=x1)\n",
    "mb.menu.add_checkbutton(label='close',variable=x2)\n",
    "mb.pack()\n",
    "v.mainloop()"
   ]
  },
  {
   "cell_type": "code",
   "execution_count": 7,
   "metadata": {},
   "outputs": [],
   "source": [
    "#menus inside menubar\n",
    "t = Tk()\n",
    "def nothing(): #we can do anything in the function\n",
    "    file = Toplevel(t)\n",
    "    button = Button(file,text='do nothing')\n",
    "    button.pack()\n",
    "    \n",
    "menubar = Menu(t)\n",
    "filemenu = Menu(menubar) #filemenu is inside our menubar\n",
    "filemenu.add_command(label='New Window',command=nothing)\n",
    "filemenu.add_command(label='New File',command=nothing)\n",
    "filemenu.add_command(label='New Open',command=nothing)\n",
    "filemenu.add_separator() #to make a separate line\n",
    "filemenu.add_command(label='Close',command=nothing)\n",
    "filemenu.add_command(label='Save As',command=nothing)\n",
    "filemenu.add_separator()\n",
    "filemenu.add_command(label='Exit',command=t.quit)\n",
    "menubar.add_cascade(label=\"File\",menu=filemenu) #to show menu in menubar\n",
    "\n",
    "editmenu = Menu(menubar) #another menu\n",
    "editmenu.add_command(label='Cut',command=nothing)\n",
    "editmenu.add_command(label='Copy',command=nothing)\n",
    "editmenu.add_command(label='Paste',command=nothing)\n",
    "menubar.add_cascade(label='Edit',menu=editmenu)\n",
    "t.config(menu=menubar)\n",
    "t.mainloop()\n",
    "    "
   ]
  },
  {
   "cell_type": "code",
   "execution_count": 9,
   "metadata": {},
   "outputs": [],
   "source": [
    "#Scale\n",
    "wo = Tk()\n",
    "s = Scale(wo)\n",
    "s.pack()\n",
    "wo.mainloop()"
   ]
  },
  {
   "cell_type": "code",
   "execution_count": 11,
   "metadata": {},
   "outputs": [],
   "source": [
    "#SpinBox\n",
    "qw = Tk()\n",
    "sb = Spinbox(qw,from_=0,to=10) #last one will be 10\n",
    "sb.pack()\n",
    "qw.mainloop()"
   ]
  },
  {
   "cell_type": "code",
   "execution_count": 24,
   "metadata": {},
   "outputs": [],
   "source": [
    "#ScrollBar\n",
    "u = Tk()\n",
    "sc = Scrollbar(u)\n",
    "sc.pack(side=RIGHT,fill=Y) #on Y axis\n",
    "list1 = Listbox(u,yscrollcommand=sc.set)\n",
    "\n",
    "for line in range(100):\n",
    "    list1.insert(END,\"This is line no: \"+str(line))\n",
    "    \n",
    "list1.pack(side=LEFT,fill=BOTH) #both x and y axis\n",
    "\n",
    "u.mainloop()"
   ]
  },
  {
   "cell_type": "code",
   "execution_count": 28,
   "metadata": {},
   "outputs": [],
   "source": [
    "#Paned Window\n",
    "wi = Tk()\n",
    "pw = PanedWindow()\n",
    "pw.pack(fill=BOTH,expand=1) #expand=1 things will not expand , by default it is 0\n",
    "left = Entry(wi,bd=5)\n",
    "pw.add(left)\n",
    "\n",
    "pw2 = PanedWindow(pw,orient=VERTICAL)#pw2 is in pw\n",
    "pw.add(pw2)\n",
    "\n",
    "top = Scale(pw2,orient=HORIZONTAL) #in pw2 there will be scale\n",
    "pw2.add(top)\n",
    "\n",
    "b = Button(pw2,text=\"Click\")\n",
    "pw2.add(b)\n",
    "\n",
    "wi.mainloop()"
   ]
  },
  {
   "cell_type": "code",
   "execution_count": 30,
   "metadata": {},
   "outputs": [],
   "source": [
    "#36 buttons\n",
    "window = Tk()\n",
    "b=0\n",
    "for i in range(6): #rows and column\n",
    "    for j in range(6):\n",
    "        b += 1\n",
    "        Button(window,text=str(b),borderwidth=1).grid(row=i,column=j)\n",
    "        \n",
    "\n",
    "window.mainloop()"
   ]
  },
  {
   "cell_type": "code",
   "execution_count": 31,
   "metadata": {},
   "outputs": [],
   "source": [
    "#Just a Sample Window\n",
    "mywin = Tk()\n",
    "l1 = Label(mywin,text='Maths')\n",
    "l1.place(x=10,y=10)\n",
    "e1 = Entry(mywin,bd=5)\n",
    "e1.place(x=60,y=10) #columns,rows\n",
    "l2 = Label(mywin,text='Eng')\n",
    "l2.place(x=10,y=50)\n",
    "e2 = Entry(mywin,bd=5)\n",
    "e2.place(x=60,y=60) #columns,rows\n",
    "b= Button(mywin,text=\"Submit\")\n",
    "b.place(x=100,y=100)\n",
    "\n",
    "mywin.mainloop()"
   ]
  },
  {
   "cell_type": "code",
   "execution_count": null,
   "metadata": {},
   "outputs": [],
   "source": []
  }
 ],
 "metadata": {
  "kernelspec": {
   "display_name": "Python 3",
   "language": "python",
   "name": "python3"
  },
  "language_info": {
   "codemirror_mode": {
    "name": "ipython",
    "version": 3
   },
   "file_extension": ".py",
   "mimetype": "text/x-python",
   "name": "python",
   "nbconvert_exporter": "python",
   "pygments_lexer": "ipython3",
   "version": "3.7.3"
  }
 },
 "nbformat": 4,
 "nbformat_minor": 2
}
